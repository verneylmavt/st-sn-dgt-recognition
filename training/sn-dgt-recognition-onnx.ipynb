{
 "cells": [
  {
   "cell_type": "code",
   "execution_count": 67,
   "metadata": {},
   "outputs": [],
   "source": [
    "import onnxruntime as ort\n",
    "import numpy as np\n",
    "import cv2\n",
    "from torchvision import transforms\n",
    "from PIL import Image"
   ]
  },
  {
   "cell_type": "code",
   "execution_count": 68,
   "metadata": {},
   "outputs": [],
   "source": [
    "def combine_images(image_path1, image_path2, output_path):\n",
    "    img1 = Image.open(image_path1)\n",
    "    img2 = Image.open(image_path2)\n",
    "\n",
    "    if img1.height != img2.height:\n",
    "        img2 = img2.resize((img2.width, img1.height))\n",
    "    \n",
    "    combined_width = img1.width + img2.width\n",
    "    combined_image = Image.new(\"RGB\", (combined_width, img1.height))\n",
    "    \n",
    "    combined_image.paste(img1, (0, 0))\n",
    "    combined_image.paste(img2, (img1.width, 0))\n",
    "    \n",
    "    combined_image.save(output_path)"
   ]
  },
  {
   "cell_type": "code",
   "execution_count": 69,
   "metadata": {},
   "outputs": [],
   "source": [
    "# for i in range(10):\n",
    "#     for j in range(10):\n",
    "#         image_path1 = f\"../data/mnist_{i}.png\"\n",
    "#         image_path2 = f\"../data/mnist_{j}.png\"\n",
    "#         output_path = f\"../data/mnist_{i}{j}.png\"\n",
    "#         combine_images(image_path1, image_path2, output_path)"
   ]
  },
  {
   "cell_type": "code",
   "execution_count": 70,
   "metadata": {},
   "outputs": [],
   "source": [
    "# def predict_number(onnx_model_path, image_path):\n",
    "#     ort_session = ort.InferenceSession(onnx_model_path)\n",
    "    \n",
    "#     transform = transforms.Compose([\n",
    "#         transforms.Grayscale(num_output_channels=1),\n",
    "#         transforms.Resize((28, 28)),\n",
    "#         transforms.ToTensor(),\n",
    "#         transforms.Normalize((0.1307,), (0.3081,))\n",
    "#     ])\n",
    "    \n",
    "#     image = Image.open(image_path).convert('L')\n",
    "#     image = transform(image)\n",
    "    \n",
    "#     if image.mean() > 0.5:\n",
    "#         image = 1.0 - image\n",
    "    \n",
    "#     image = image.unsqueeze(0).numpy().astype(np.float32)\n",
    "    \n",
    "#     ort_inputs = {ort_session.get_inputs()[0].name: image}\n",
    "#     ort_outs = ort_session.run(None, ort_inputs)\n",
    "#     predicted = np.argmax(ort_outs[0], axis=1)[0]\n",
    "    \n",
    "#     return predicted\n",
    "\n",
    "\n",
    "\n",
    "def predict_number(ort_session, image_path):\n",
    "    input_shape = ort_session.get_inputs()[0].shape\n",
    "    \n",
    "    _, _, target_height, target_width = input_shape\n",
    "    \n",
    "    transform = transforms.Compose([\n",
    "        transforms.Grayscale(num_output_channels=1),\n",
    "        transforms.Resize((target_height, target_width)),\n",
    "        transforms.ToTensor(),\n",
    "        transforms.Normalize((0.1307,), (0.3081,))\n",
    "    ])\n",
    "    \n",
    "    image = Image.open(image_path).convert('L')\n",
    "    image = transform(image)\n",
    "    \n",
    "    if image.mean() > 0.5:\n",
    "        image = 1.0 - image\n",
    "    \n",
    "    image = image.unsqueeze(0).numpy().astype(np.float32)\n",
    "    \n",
    "    ort_inputs = {ort_session.get_inputs()[0].name: image}\n",
    "    ort_outs = ort_session.run(None, ort_inputs)\n",
    "    \n",
    "    predicted = np.argmax(ort_outs[0], axis=1)[0]\n",
    "    \n",
    "    return predicted"
   ]
  },
  {
   "cell_type": "code",
   "execution_count": 72,
   "metadata": {},
   "outputs": [
    {
     "name": "stdout",
     "output_type": "stream",
     "text": [
      "1\n"
     ]
    }
   ],
   "source": [
    "predicted_digit_onnx = predict_number(ort.InferenceSession('model.onnx'), '../data/images.png')\n",
    "print(f'{predicted_digit_onnx}')"
   ]
  }
 ],
 "metadata": {
  "kernelspec": {
   "display_name": "ai",
   "language": "python",
   "name": "python3"
  },
  "language_info": {
   "codemirror_mode": {
    "name": "ipython",
    "version": 3
   },
   "file_extension": ".py",
   "mimetype": "text/x-python",
   "name": "python",
   "nbconvert_exporter": "python",
   "pygments_lexer": "ipython3",
   "version": "3.10.15"
  }
 },
 "nbformat": 4,
 "nbformat_minor": 2
}
